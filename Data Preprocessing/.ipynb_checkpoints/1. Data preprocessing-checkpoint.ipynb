{
 "cells": [
  {
   "cell_type": "markdown",
   "id": "47ee9cb0",
   "metadata": {},
   "source": [
    "### 1. Library import"
   ]
  },
  {
   "cell_type": "code",
   "execution_count": 1,
   "id": "9e5af922",
   "metadata": {},
   "outputs": [],
   "source": [
    "from Bio import SeqIO\n",
    "import gzip\n",
    "import pandas as pd\n",
    "import warnings\n",
    "warnings.filterwarnings('ignore')"
   ]
  },
  {
   "cell_type": "markdown",
   "id": "7ac4f599",
   "metadata": {},
   "source": [
    "## A. Reviewed Human Protein\n",
    "\n",
    "### 2. Assign data path of Reviewed Human Protein"
   ]
  },
  {
   "cell_type": "code",
   "execution_count": null,
   "id": "d81b1aae",
   "metadata": {},
   "outputs": [],
   "source": [
    "Data_path = \"C:/Users/ha._.am/Desktop/DATA/\""
   ]
  },
  {
   "cell_type": "markdown",
   "id": "9dbbe048",
   "metadata": {},
   "source": [
    "### 3. Open data"
   ]
  },
  {
   "cell_type": "code",
   "execution_count": null,
   "id": "89b25f9d",
   "metadata": {},
   "outputs": [],
   "source": [
    "handle = gzip.open(Data_path + \"uniprot-human-filtered-reviewed_yes+AND+organism__Homo+sapiens+(Human)--.fasta.gz\", \"rt\")\n",
    "seq = SeqIO.parse(handle, \"fasta\")"
   ]
  },
  {
   "cell_type": "markdown",
   "id": "1c87b47c",
   "metadata": {},
   "source": [
    "### 4. Convert data format  FASTA to CSV"
   ]
  },
  {
   "cell_type": "code",
   "execution_count": null,
   "id": "021d82f9",
   "metadata": {},
   "outputs": [],
   "source": [
    "handle_fasta = Data_path + 'uniprot-human-filtered-reviewed_yes+AND+organism__Homo+sapiens+(Human)--.fasta'\n",
    "name = []\n",
    "sequence = []\n",
    "for seq_record in SeqIO.parse(handle_fasta, \"fasta\") : \n",
    "    name.append(str(seq_record.id))\n",
    "    sequence.append(str(seq_record.seq))\n",
    "    \n",
    "df= pd.DataFrame(data ={'name':name,'sequenceID':sequence})"
   ]
  },
  {
   "cell_type": "markdown",
   "id": "6c82f646",
   "metadata": {},
   "source": [
    "### 5. Create columns"
   ]
  },
  {
   "cell_type": "code",
   "execution_count": null,
   "id": "ffbb97a2",
   "metadata": {},
   "outputs": [],
   "source": [
    "df = df.assign(organism = \"\", entrynumber = \"\", entryname = \"\", string = \"\", sequenceID_length = \"\")"
   ]
  },
  {
   "cell_type": "markdown",
   "id": "c4a5fdaa",
   "metadata": {},
   "source": [
    "### 6. Divide the value of the Name column by oganism, entrynumber, and entryname"
   ]
  },
  {
   "cell_type": "code",
   "execution_count": null,
   "id": "65280a75",
   "metadata": {},
   "outputs": [],
   "source": [
    "for i in range(0, 42378) : \n",
    "    split = df.name[i].split(\"|\")\n",
    "    df.organism[i] = split[0]\n",
    "    df.entrynumber[i] = split[1]\n",
    "    df.entryname[i] = split[2]\n",
    "    df[\"sequenceID_length\"][i] = len(df['sequenceID'][i])"
   ]
  },
  {
   "cell_type": "markdown",
   "id": "6b869724",
   "metadata": {},
   "source": [
    "### 7. Reorder columns"
   ]
  },
  {
   "cell_type": "code",
   "execution_count": null,
   "id": "46358e23",
   "metadata": {},
   "outputs": [],
   "source": [
    "df = df[['name', 'organism', 'entrynumber', 'entryname', 'string', 'sequenceID_length', 'sequenceID']]"
   ]
  },
  {
   "cell_type": "markdown",
   "id": "1f659596",
   "metadata": {},
   "source": [
    "## B. Intergrate STRING reference values with reviewed human protein\n",
    "\n",
    "### 8. Assign data path of STRING reference value"
   ]
  },
  {
   "cell_type": "code",
   "execution_count": null,
   "id": "18ca26b5",
   "metadata": {},
   "outputs": [],
   "source": [
    "string = pd.read_excel(Data_path + \"/string.xlsx\")"
   ]
  },
  {
   "cell_type": "markdown",
   "id": "8ad7caef",
   "metadata": {},
   "source": [
    "### 9. Extraction of canonical values from the entry number column of Reviewed Human Protein and intergration"
   ]
  },
  {
   "cell_type": "code",
   "execution_count": null,
   "id": "ad0b9670",
   "metadata": {},
   "outputs": [],
   "source": [
    "for i in range(42378) : \n",
    "    canonical = df['entrynumber'][i].split('-')[0]\n",
    "    try : \n",
    "        df['string'][i] = str(string[string['Entry'] == canonical][['STRING']]).split()[-1].split(';')[0]\n",
    "    \n",
    "    except :\n",
    "        print(\"error : \", \"Index : \", i, \"EntryNumber : \", canonical)"
   ]
  },
  {
   "cell_type": "markdown",
   "id": "4e96f5ac",
   "metadata": {},
   "source": [
    "### 10. Save data as CSV format"
   ]
  },
  {
   "cell_type": "code",
   "execution_count": null,
   "id": "260fc12c",
   "metadata": {},
   "outputs": [],
   "source": [
    "df.to_csv(\"Human_protein_reviewed_complete.csv\")"
   ]
  },
  {
   "cell_type": "markdown",
   "id": "18ab9af9",
   "metadata": {},
   "source": [
    "## Physical interaction between Protein-Protein\n",
    "\n",
    "### 11. Assign data path"
   ]
  },
  {
   "cell_type": "code",
   "execution_count": null,
   "id": "3c156c86",
   "metadata": {},
   "outputs": [],
   "source": [
    "protein_link_full_zip = gzip.open(Data_path + \"String/INTERACTION DATA/links_full/9606.protein.links.full.v11.5.txt.gz\", \"rt\")\n",
    "protein_link_full = pd.read_csv(protein_link_full_zip, sep = \" \")"
   ]
  },
  {
   "cell_type": "markdown",
   "id": "8e916f11",
   "metadata": {},
   "source": [
    "### 12. Sava data as CSV format"
   ]
  },
  {
   "cell_type": "code",
   "execution_count": null,
   "id": "0ea03de3",
   "metadata": {},
   "outputs": [],
   "source": [
    "protein_link_full_csv = protein_link_full.to_excel(Data_path + \"String/INTERACTION DATA/links_full/protein_links_full.xlsx\")"
   ]
  }
 ],
 "metadata": {
  "kernelspec": {
   "display_name": "Python 3 (ipykernel)",
   "language": "python",
   "name": "python3"
  },
  "language_info": {
   "codemirror_mode": {
    "name": "ipython",
    "version": 3
   },
   "file_extension": ".py",
   "mimetype": "text/x-python",
   "name": "python",
   "nbconvert_exporter": "python",
   "pygments_lexer": "ipython3",
   "version": "3.9.12"
  }
 },
 "nbformat": 4,
 "nbformat_minor": 5
}
