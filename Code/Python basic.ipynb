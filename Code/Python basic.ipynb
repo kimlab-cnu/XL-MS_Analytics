{
 "cells": [
  {
   "cell_type": "markdown",
   "metadata": {},
   "source": [
    "# 자료형\n",
    "\n",
    "1. 숫자형\n",
    "    - 정수형\n",
    "    - 실수형\n",
    "\n",
    "1-1. 사칙연산\n",
    "    - 덧셈\n",
    "    - 뺄셈\n",
    "    - 곱\n",
    "    - 제곱\n",
    "    - 나누기 (몫)\n",
    "    - 나누지 (나머지)\n",
    "    - 복합연산 (+= , -= , *= , **=, /= , //= , %=)\n",
    "\n",
    "\n",
    "2. 문자열\n",
    "    - 작은 따옴표 (1개, 3개)\n",
    "    - 큰 따옴표 (1개, 3개)\n",
    "    - 역슬레시 (\\)\n",
    "    - \\n\n",
    "    - 문자열 더하기\n",
    "    - 문자열 곱하기\n",
    "    - Formatting 1 (%s , %d(%%) ,%f)\n",
    "        - 정렬 (%ns(앞 공백) , %-ns(뒤 공백))\n",
    "        - 소수점 자리수 표현 (%0.nf)\n",
    "    - Formatting 2 ({n}.format(n), {n1}{n2}.format(n1, n2))\n",
    "    \n",
    "\n",
    "\n",
    "3. 길이 연산\n",
    "\n",
    "\n",
    "4. 인덱싱 / 슬라이싱\n"
   ]
  },
  {
   "cell_type": "code",
   "execution_count": null,
   "metadata": {},
   "outputs": [],
   "source": []
  }
 ],
 "metadata": {
  "kernelspec": {
   "display_name": "work",
   "language": "python",
   "name": "python3"
  },
  "language_info": {
   "codemirror_mode": {
    "name": "ipython",
    "version": 3
   },
   "file_extension": ".py",
   "mimetype": "text/x-python",
   "name": "python",
   "nbconvert_exporter": "python",
   "pygments_lexer": "ipython3",
   "version": "3.11.10"
  }
 },
 "nbformat": 4,
 "nbformat_minor": 2
}
