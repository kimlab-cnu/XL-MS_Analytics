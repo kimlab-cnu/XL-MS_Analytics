{
 "cells": [
  {
   "cell_type": "markdown",
   "id": "10857968",
   "metadata": {},
   "source": [
    "### 1. Library Import"
   ]
  },
  {
   "cell_type": "code",
   "execution_count": null,
   "id": "51221ec1",
   "metadata": {},
   "outputs": [],
   "source": [
    "import pymysql\n",
    "import csv"
   ]
  },
  {
   "cell_type": "markdown",
   "id": "df527321",
   "metadata": {},
   "source": [
    "### 2. Assign data path"
   ]
  },
  {
   "cell_type": "code",
   "execution_count": null,
   "id": "85969ef6",
   "metadata": {},
   "outputs": [],
   "source": [
    "path = \"C:/Users/ha._.am/Desktop/Ha._.am/WEB/DATA/csv/\""
   ]
  },
  {
   "cell_type": "markdown",
   "id": "ce8bc03c",
   "metadata": {},
   "source": [
    "### 3. Open data"
   ]
  },
  {
   "cell_type": "code",
   "execution_count": null,
   "id": "7db3ef82",
   "metadata": {},
   "outputs": [],
   "source": [
    "data = \"/amino acid monoisotopic.csv\"\n",
    "f = open(path+data, 'r', encoding = 'utf-8')\n",
    "rd = csv.reader(f)"
   ]
  },
  {
   "cell_type": "markdown",
   "id": "3476f37c",
   "metadata": {},
   "source": [
    "### 4. Connect with database(MySQL)"
   ]
  },
  {
   "cell_type": "code",
   "execution_count": null,
   "id": "e2dc6003",
   "metadata": {},
   "outputs": [],
   "source": [
    "conn = pymysql.connect(host = \"127.0.0.1\", \n",
    "                       user = \"root\", \n",
    "                       password = \"\",\n",
    "                       db = \"project\", \n",
    "                       charset = 'utf8')"
   ]
  },
  {
   "cell_type": "markdown",
   "id": "4fd91bec",
   "metadata": {},
   "source": [
    "### 5. Insert data to database"
   ]
  },
  {
   "cell_type": "code",
   "execution_count": null,
   "id": "efb4d49a",
   "metadata": {},
   "outputs": [],
   "source": [
    "# create cursor\n",
    "cursor = conn.cursor()\n",
    "\n",
    "# Assign Insert SQL syntax\n",
    "sql = \"insert into \"name of table\" (\"columns of table\") values (%s, %s, %s, %s)\"\n",
    "\n",
    "# Data Insert to SQL per a line (The total number of lines is the same as the number of \"values\" in the code right above)\n",
    "for line in rd :\n",
    "    cursor.execute(sql, (line[0],line[1], line[2], line[3]))\n",
    "\n",
    "# Close connection with SQL\n",
    "conn.commit()\n",
    "conn.close()\n",
    "f.close()"
   ]
  }
 ],
 "metadata": {
  "kernelspec": {
   "display_name": "Python 3 (ipykernel)",
   "language": "python",
   "name": "python3"
  },
  "language_info": {
   "codemirror_mode": {
    "name": "ipython",
    "version": 3
   },
   "file_extension": ".py",
   "mimetype": "text/x-python",
   "name": "python",
   "nbconvert_exporter": "python",
   "pygments_lexer": "ipython3",
   "version": "3.9.7"
  }
 },
 "nbformat": 4,
 "nbformat_minor": 5
}
